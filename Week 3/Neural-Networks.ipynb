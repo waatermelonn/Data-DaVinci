{
  "cells": [
    {
      "cell_type": "code",
      "source": [
        "import os\n",
        "import shutil\n",
        "os.makedirs('/content/my_temp_folder', exist_ok=True)\n",
        "source_folder = '/content/neural'\n",
        "target_folder = '/content/my_temp_folder'\n",
        "os.makedirs(f'{target_folder}/class_0', exist_ok=True)\n",
        "os.makedirs(f'{target_folder}/class_1', exist_ok=True)\n",
        "for filename in os.listdir(source_folder):\n",
        "    if 'homer' in filename:\n",
        "        shutil.move(os.path.join(source_folder, filename), f'{target_folder}/class_0/{filename}')\n",
        "    elif 'bart' in filename:\n",
        "        shutil.move(os.path.join(source_folder, filename), f'{target_folder}/class_1/{filename}')\n"
      ],
      "metadata": {
        "id": "REXamNpRmClW"
      },
      "execution_count": 21,
      "outputs": []
    },
    {
      "cell_type": "code",
      "execution_count": 22,
      "metadata": {
        "id": "tMalBcHp5-Zt"
      },
      "outputs": [],
      "source": [
        "import tensorflow as tf\n",
        "from tensorflow.keras.layers import Dense, Flatten, Dropout, InputLayer\n",
        "from tensorflow.keras.models import Sequential\n",
        "from tensorflow.keras.preprocessing.image import ImageDataGenerator\n",
        "from tensorflow.keras.optimizers import Adam\n",
        "from tensorflow.keras.losses import BinaryCrossentropy\n",
        "from sklearn.model_selection import train_test_split"
      ]
    },
    {
      "cell_type": "code",
      "execution_count": 28,
      "metadata": {
        "id": "hs1hMfGr5-Zy",
        "outputId": "e5a9976d-a5e7-4a14-d6d1-bd70103c1949",
        "colab": {
          "base_uri": "https://localhost:8080/"
        }
      },
      "outputs": [
        {
          "output_type": "stream",
          "name": "stdout",
          "text": [
            "Found 216 images belonging to 2 classes.\n",
            "Found 53 images belonging to 2 classes.\n"
          ]
        }
      ],
      "source": [
        "### TODO 1: Split the training data into folders train and test with subfolders for each class\n",
        "### Additionally, also convert the data (normalise the pixel values)\n",
        "train_data = ImageDataGenerator(rescale=1./255, validation_split=0.2).flow_from_directory('/content/my_temp_folder',target_size=(150, 150),batch_size=32,class_mode='binary',subset='training')\n",
        "\n",
        "test_data = ImageDataGenerator(rescale=1./255, validation_split=0.2).flow_from_directory('/content/my_temp_folder',target_size=(150, 150),batch_size=32,class_mode='binary',subset='validation')"
      ]
    },
    {
      "cell_type": "code",
      "execution_count": 29,
      "metadata": {
        "id": "uSwfH2cY5-Z0",
        "outputId": "75ab12ca-eb71-4a01-bd02-2bd01d75939b",
        "colab": {
          "base_uri": "https://localhost:8080/"
        }
      },
      "outputs": [
        {
          "output_type": "stream",
          "name": "stderr",
          "text": [
            "/usr/local/lib/python3.10/dist-packages/keras/src/layers/core/input_layer.py:26: UserWarning: Argument `input_shape` is deprecated. Use `shape` instead.\n",
            "  warnings.warn(\n"
          ]
        }
      ],
      "source": [
        "input_shape = (150,150,3) #  New input shape matching your training data\n",
        "model = Sequential([\n",
        "    InputLayer(input_shape=input_shape),\n",
        "    Flatten(),\n",
        "    Dense(128, activation='relu'),\n",
        "    Dropout(0.5),\n",
        "    Dense(64, activation='relu'),\n",
        "    Dropout(0.3),\n",
        "    Dense(1, activation='sigmoid')\n",
        "])\n",
        "\n"
      ]
    },
    {
      "cell_type": "code",
      "execution_count": 30,
      "metadata": {
        "id": "-9NZlxO35-Z1",
        "outputId": "0c4de0c5-9a6c-467a-be6f-8f756da418a2",
        "colab": {
          "base_uri": "https://localhost:8080/"
        }
      },
      "outputs": [
        {
          "output_type": "stream",
          "name": "stdout",
          "text": [
            "Epoch 1/20\n"
          ]
        },
        {
          "output_type": "stream",
          "name": "stderr",
          "text": [
            "/usr/local/lib/python3.10/dist-packages/keras/src/trainers/data_adapters/py_dataset_adapter.py:122: UserWarning: Your `PyDataset` class should call `super().__init__(**kwargs)` in its constructor. `**kwargs` can include `workers`, `use_multiprocessing`, `max_queue_size`. Do not pass these arguments to `fit()`, as they will be ignored.\n",
            "  self._warn_if_super_not_called()\n"
          ]
        },
        {
          "output_type": "stream",
          "name": "stdout",
          "text": [
            "\u001b[1m7/7\u001b[0m \u001b[32m━━━━━━━━━━━━━━━━━━━━\u001b[0m\u001b[37m\u001b[0m \u001b[1m3s\u001b[0m 263ms/step - accuracy: 0.4703 - loss: 13.9246 - val_accuracy: 0.6038 - val_loss: 1.7677\n",
            "Epoch 2/20\n",
            "\u001b[1m7/7\u001b[0m \u001b[32m━━━━━━━━━━━━━━━━━━━━\u001b[0m\u001b[37m\u001b[0m \u001b[1m2s\u001b[0m 219ms/step - accuracy: 0.4628 - loss: 16.2775 - val_accuracy: 0.4717 - val_loss: 2.1579\n",
            "Epoch 3/20\n",
            "\u001b[1m7/7\u001b[0m \u001b[32m━━━━━━━━━━━━━━━━━━━━\u001b[0m\u001b[37m\u001b[0m \u001b[1m3s\u001b[0m 293ms/step - accuracy: 0.5243 - loss: 9.8485 - val_accuracy: 0.6604 - val_loss: 1.7999\n",
            "Epoch 4/20\n",
            "\u001b[1m7/7\u001b[0m \u001b[32m━━━━━━━━━━━━━━━━━━━━\u001b[0m\u001b[37m\u001b[0m \u001b[1m2s\u001b[0m 174ms/step - accuracy: 0.5155 - loss: 6.6156 - val_accuracy: 0.6792 - val_loss: 0.8333\n",
            "Epoch 5/20\n",
            "\u001b[1m7/7\u001b[0m \u001b[32m━━━━━━━━━━━━━━━━━━━━\u001b[0m\u001b[37m\u001b[0m \u001b[1m1s\u001b[0m 178ms/step - accuracy: 0.5882 - loss: 1.1393 - val_accuracy: 0.6792 - val_loss: 0.6758\n",
            "Epoch 6/20\n",
            "\u001b[1m7/7\u001b[0m \u001b[32m━━━━━━━━━━━━━━━━━━━━\u001b[0m\u001b[37m\u001b[0m \u001b[1m3s\u001b[0m 211ms/step - accuracy: 0.6217 - loss: 0.6940 - val_accuracy: 0.7358 - val_loss: 0.6665\n",
            "Epoch 7/20\n",
            "\u001b[1m7/7\u001b[0m \u001b[32m━━━━━━━━━━━━━━━━━━━━\u001b[0m\u001b[37m\u001b[0m \u001b[1m1s\u001b[0m 179ms/step - accuracy: 0.6752 - loss: 0.7217 - val_accuracy: 0.6981 - val_loss: 0.6689\n",
            "Epoch 8/20\n",
            "\u001b[1m7/7\u001b[0m \u001b[32m━━━━━━━━━━━━━━━━━━━━\u001b[0m\u001b[37m\u001b[0m \u001b[1m2s\u001b[0m 178ms/step - accuracy: 0.6230 - loss: 0.6793 - val_accuracy: 0.7358 - val_loss: 0.6606\n",
            "Epoch 9/20\n",
            "\u001b[1m7/7\u001b[0m \u001b[32m━━━━━━━━━━━━━━━━━━━━\u001b[0m\u001b[37m\u001b[0m \u001b[1m2s\u001b[0m 186ms/step - accuracy: 0.6761 - loss: 0.6653 - val_accuracy: 0.7358 - val_loss: 0.6371\n",
            "Epoch 10/20\n",
            "\u001b[1m7/7\u001b[0m \u001b[32m━━━━━━━━━━━━━━━━━━━━\u001b[0m\u001b[37m\u001b[0m \u001b[1m3s\u001b[0m 295ms/step - accuracy: 0.6468 - loss: 0.6620 - val_accuracy: 0.6792 - val_loss: 0.6339\n",
            "Epoch 11/20\n",
            "\u001b[1m7/7\u001b[0m \u001b[32m━━━━━━━━━━━━━━━━━━━━\u001b[0m\u001b[37m\u001b[0m \u001b[1m2s\u001b[0m 180ms/step - accuracy: 0.6525 - loss: 0.7032 - val_accuracy: 0.6038 - val_loss: 0.6837\n",
            "Epoch 12/20\n",
            "\u001b[1m7/7\u001b[0m \u001b[32m━━━━━━━━━━━━━━━━━━━━\u001b[0m\u001b[37m\u001b[0m \u001b[1m1s\u001b[0m 178ms/step - accuracy: 0.5856 - loss: 0.6866 - val_accuracy: 0.6038 - val_loss: 0.6828\n",
            "Epoch 13/20\n",
            "\u001b[1m7/7\u001b[0m \u001b[32m━━━━━━━━━━━━━━━━━━━━\u001b[0m\u001b[37m\u001b[0m \u001b[1m3s\u001b[0m 179ms/step - accuracy: 0.5797 - loss: 0.6836 - val_accuracy: 0.6038 - val_loss: 0.6819\n",
            "Epoch 14/20\n",
            "\u001b[1m7/7\u001b[0m \u001b[32m━━━━━━━━━━━━━━━━━━━━\u001b[0m\u001b[37m\u001b[0m \u001b[1m2s\u001b[0m 178ms/step - accuracy: 0.5968 - loss: 0.6827 - val_accuracy: 0.6038 - val_loss: 0.6811\n",
            "Epoch 15/20\n",
            "\u001b[1m7/7\u001b[0m \u001b[32m━━━━━━━━━━━━━━━━━━━━\u001b[0m\u001b[37m\u001b[0m \u001b[1m1s\u001b[0m 178ms/step - accuracy: 0.5886 - loss: 0.6838 - val_accuracy: 0.6038 - val_loss: 0.6804\n",
            "Epoch 16/20\n",
            "\u001b[1m7/7\u001b[0m \u001b[32m━━━━━━━━━━━━━━━━━━━━\u001b[0m\u001b[37m\u001b[0m \u001b[1m3s\u001b[0m 290ms/step - accuracy: 0.5692 - loss: 0.6853 - val_accuracy: 0.6038 - val_loss: 0.6798\n",
            "Epoch 17/20\n",
            "\u001b[1m7/7\u001b[0m \u001b[32m━━━━━━━━━━━━━━━━━━━━\u001b[0m\u001b[37m\u001b[0m \u001b[1m2s\u001b[0m 258ms/step - accuracy: 0.5801 - loss: 0.6846 - val_accuracy: 0.6038 - val_loss: 0.6793\n",
            "Epoch 18/20\n",
            "\u001b[1m7/7\u001b[0m \u001b[32m━━━━━━━━━━━━━━━━━━━━\u001b[0m\u001b[37m\u001b[0m \u001b[1m2s\u001b[0m 180ms/step - accuracy: 0.5547 - loss: 0.6885 - val_accuracy: 0.6038 - val_loss: 0.6788\n",
            "Epoch 19/20\n",
            "\u001b[1m7/7\u001b[0m \u001b[32m━━━━━━━━━━━━━━━━━━━━\u001b[0m\u001b[37m\u001b[0m \u001b[1m1s\u001b[0m 180ms/step - accuracy: 0.5964 - loss: 0.6800 - val_accuracy: 0.6038 - val_loss: 0.6783\n",
            "Epoch 20/20\n",
            "\u001b[1m7/7\u001b[0m \u001b[32m━━━━━━━━━━━━━━━━━━━━\u001b[0m\u001b[37m\u001b[0m \u001b[1m3s\u001b[0m 180ms/step - accuracy: 0.5701 - loss: 0.6845 - val_accuracy: 0.6038 - val_loss: 0.6779\n"
          ]
        }
      ],
      "source": [
        "model.compile(optimizer=Adam(), loss=BinaryCrossentropy(), metrics=['accuracy'])\n",
        "# TODO 3: Modify train_data and the value of epochs accordingly\n",
        "epochs = 20\n",
        "history = model.fit(train_data, epochs=epochs, validation_data=test_data)\n"
      ]
    },
    {
      "cell_type": "code",
      "execution_count": 32,
      "metadata": {
        "id": "a_kBw9t55-Z1",
        "outputId": "eb9d8907-fb1c-4a0e-daad-387ad2479b67",
        "colab": {
          "base_uri": "https://localhost:8080/"
        }
      },
      "outputs": [
        {
          "output_type": "stream",
          "name": "stdout",
          "text": [
            "\u001b[1m2/2\u001b[0m \u001b[32m━━━━━━━━━━━━━━━━━━━━\u001b[0m\u001b[37m\u001b[0m \u001b[1m0s\u001b[0m 29ms/step - accuracy: 0.6108 - loss: 0.6765 \n",
            "Test accuracy: 0.6037735939025879\n"
          ]
        }
      ],
      "source": [
        "test_loss, test_acc = model.evaluate(test_data, steps=len(test_data))\n",
        "print(f'Test accuracy: {test_acc}')"
      ]
    }
  ],
  "metadata": {
    "kernelspec": {
      "display_name": ".venv",
      "language": "python",
      "name": "python3"
    },
    "language_info": {
      "codemirror_mode": {
        "name": "ipython",
        "version": 3
      },
      "file_extension": ".py",
      "mimetype": "text/x-python",
      "name": "python",
      "nbconvert_exporter": "python",
      "pygments_lexer": "ipython3",
      "version": "3.12.4"
    },
    "colab": {
      "provenance": []
    }
  },
  "nbformat": 4,
  "nbformat_minor": 0
}